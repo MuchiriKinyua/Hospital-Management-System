{
 "cells": [
  {
   "cell_type": "code",
   "execution_count": null,
   "id": "7ae89667-a71d-4f42-961f-a7bbfc77eab1",
   "metadata": {},
   "outputs": [],
   "source": []
  }
 ],
 "metadata": {
  "kernelspec": {
   "display_name": "",
   "name": ""
  },
  "language_info": {
   "name": ""
  }
 },
 "nbformat": 4,
 "nbformat_minor": 5
}
