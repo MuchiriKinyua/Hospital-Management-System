{
 "cells": [
  {
   "cell_type": "code",
   "execution_count": null,
   "id": "e3267311-39fb-4820-8a9f-634f1a4d7cb4",
   "metadata": {},
   "outputs": [],
   "source": []
  }
 ],
 "metadata": {
  "kernelspec": {
   "display_name": "",
   "name": ""
  },
  "language_info": {
   "name": ""
  }
 },
 "nbformat": 4,
 "nbformat_minor": 5
}
